{
 "cells": [
  {
   "cell_type": "code",
   "execution_count": 22,
   "metadata": {},
   "outputs": [],
   "source": [
    "#Imports\n",
    "from random import random\n",
    "from functools import reduce\n",
    "from collections import namedtuple\n",
    "from queue import PriorityQueue\n",
    "\n",
    "import numpy as np"
   ]
  },
  {
   "cell_type": "code",
   "execution_count": 23,
   "metadata": {},
   "outputs": [],
   "source": [
    "#Problem Constraints\n",
    "PROBLEM_SIZE = 20\n",
    "NUM_SETS = 40\n",
    "\n",
    "#Inizialization\n",
    "SETS = tuple(np.array([random() < 0.2 for _ in range(PROBLEM_SIZE)]) for _ in range(NUM_SETS))\n",
    "\n",
    "State = namedtuple('State', ['taken', 'not_taken'])"
   ]
  },
  {
   "cell_type": "code",
   "execution_count": 24,
   "metadata": {},
   "outputs": [
    {
     "name": "stdout",
     "output_type": "stream",
     "text": [
      "[False  True  True False False False False  True False False False False\n",
      " False False  True False False False False False]\n",
      "[False False False False False False False False False False False  True\n",
      " False False  True  True False  True False False]\n",
      "[False False  True False False False False False False False False False\n",
      " False False False  True False False False  True]\n",
      "[False False False  True False False False False  True False False False\n",
      " False False  True False  True False False False]\n",
      "[False False  True False False False False  True  True  True False False\n",
      " False False False  True False False False False]\n",
      "[ True False False False  True  True False False False False False False\n",
      " False False False False  True  True False False]\n",
      "[False False False False False False False False False False False False\n",
      " False False False False False False False False]\n",
      "[False False False False False  True False False False False False False\n",
      " False  True False  True False False False False]\n",
      "[False False False False False False False False False False False False\n",
      " False False False False False False False  True]\n",
      "[False False False  True False False False  True False False False False\n",
      " False  True False False False False False False]\n",
      "[False False False  True False False False False False False  True  True\n",
      "  True False  True False False False False False]\n",
      "[False False False False False False False False False False False False\n",
      " False  True False False False  True  True False]\n",
      "[ True False False False False False False False False False  True  True\n",
      "  True False False  True False False False  True]\n",
      "[False False False False  True False False False False  True False False\n",
      "  True False False  True False False False False]\n",
      "[False False False False False False False False  True False False False\n",
      " False False  True False False False False False]\n",
      "[False False  True  True  True False False  True False False False False\n",
      "  True False False False  True False False False]\n",
      "[False False False False False False False  True False  True False False\n",
      " False False  True  True False  True False False]\n",
      "[ True  True False False False False  True False False  True  True False\n",
      "  True False False False  True False False False]\n",
      "[False False False False False False False False False  True False False\n",
      " False False False  True  True  True False False]\n",
      "[False False False False False  True False  True False False False False\n",
      " False False False False False False False  True]\n",
      "[False False  True  True False False False  True  True  True False False\n",
      " False False False False False False False False]\n",
      "[False False False  True False False False False False False False False\n",
      " False  True False False  True False False False]\n",
      "[False  True False False  True False False False  True False False False\n",
      "  True False False False False  True False False]\n",
      "[False False  True False False  True False False False False False False\n",
      " False False  True False False False False False]\n",
      "[False False False  True False False  True False False False False False\n",
      "  True False False False False  True False False]\n",
      "[False  True False False False  True False False False False False False\n",
      " False False False False  True False False  True]\n",
      "[False False False False False False  True False False False False False\n",
      "  True False False False False False  True False]\n",
      "[False False False False  True False  True False False False  True  True\n",
      "  True False False False  True False  True False]\n",
      "[False False False False False False False  True False False False False\n",
      " False False False False False False False False]\n",
      "[False False False False False False False False False False False  True\n",
      " False False False False False False False False]\n",
      "[False  True False False  True False False  True False  True False False\n",
      " False False False False False False False  True]\n",
      "[False  True False False False False False False False False  True False\n",
      " False False False False False  True  True False]\n",
      "[False False False False False False False False False False False False\n",
      " False False False False False False False False]\n",
      "[False  True False False False False False False False False False False\n",
      " False False False False False False False False]\n",
      "[False False False False False False False False False False False  True\n",
      " False False False False False False False False]\n",
      "[False False  True False False False  True False False False False False\n",
      " False False  True  True  True False False False]\n",
      "[False False False False False False False  True False  True  True False\n",
      " False False False  True False  True False False]\n",
      "[False False  True False False False False False False False False  True\n",
      "  True False False False False False False False]\n",
      "[False  True  True False False False False False  True False False False\n",
      " False  True False False False False False  True]\n",
      "[False False False False  True False  True False  True False False  True\n",
      " False False False False False False False False]\n"
     ]
    }
   ],
   "source": [
    "#Printing SETS to have a visual idea of the problem\n",
    "for s in SETS:\n",
    "    print(s)"
   ]
  },
  {
   "cell_type": "code",
   "execution_count": 25,
   "metadata": {},
   "outputs": [],
   "source": [
    "#Goal checking\n",
    "def covered(state):\n",
    "    return reduce(np.logical_or, [SETS[i] for i in state.taken], np.array([False for _ in range(PROBLEM_SIZE)]))\n",
    "\n",
    "def goal_check(state):\n",
    "    return np.all(covered(state))"
   ]
  },
  {
   "cell_type": "code",
   "execution_count": 26,
   "metadata": {},
   "outputs": [
    {
     "name": "stdout",
     "output_type": "stream",
     "text": [
      "Problem is solvable\n"
     ]
    }
   ],
   "source": [
    "#Verify if problem is solvable\n",
    "assert goal_check(State(set(range(NUM_SETS)), set())), \"Problem not solvable\"\n",
    "\n",
    "print(\"Problem is solvable\")"
   ]
  },
  {
   "cell_type": "code",
   "execution_count": 27,
   "metadata": {},
   "outputs": [],
   "source": [
    "#h function\n",
    "def h_remaining_coverage(state):\n",
    "    return PROBLEM_SIZE - sum(covered(state))\n",
    "\n",
    "def f(state):\n",
    "    return len(state.taken) + h_remaining_coverage(state)"
   ]
  },
  {
   "cell_type": "code",
   "execution_count": 28,
   "metadata": {},
   "outputs": [
    {
     "name": "stdout",
     "output_type": "stream",
     "text": [
      "Solved in 8 steps (6 tiles)\n"
     ]
    }
   ],
   "source": [
    "#A* Algorithm\n",
    "frontier = PriorityQueue()\n",
    "state = State(set(), set(range(NUM_SETS)))\n",
    "steps = 0\n",
    "frontier.put((f(state), state))\n",
    "\n",
    "_, current_state = frontier.get()\n",
    "while not goal_check(current_state):\n",
    "    steps += 1\n",
    "    for action in current_state.not_taken:\n",
    "        new_state = State(\n",
    "            current_state.taken ^ {action},\n",
    "            current_state.not_taken ^ {action},\n",
    "        )\n",
    "        frontier.put((f(new_state), new_state))\n",
    "    _, current_state = frontier.get()\n",
    "\n",
    "print(\n",
    "    f\"Solved in {steps} steps ({len(current_state.taken)} tiles)\"\n",
    ")"
   ]
  }
 ],
 "metadata": {
  "kernelspec": {
   "display_name": "venv",
   "language": "python",
   "name": "python3"
  },
  "language_info": {
   "codemirror_mode": {
    "name": "ipython",
    "version": 3
   },
   "file_extension": ".py",
   "mimetype": "text/x-python",
   "name": "python",
   "nbconvert_exporter": "python",
   "pygments_lexer": "ipython3",
   "version": "3.11.6"
  }
 },
 "nbformat": 4,
 "nbformat_minor": 2
}
