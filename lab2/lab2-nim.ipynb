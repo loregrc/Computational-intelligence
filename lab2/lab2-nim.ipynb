{
 "cells": [
  {
   "cell_type": "markdown",
   "metadata": {
    "pycharm": {
     "name": "#%% md\n"
    }
   },
   "source": [
    "Copyright **`(c)`** 2022 Giovanni Squillero `<squillero@polito.it>`  \n",
    "[`https://github.com/squillero/computational-intelligence`](https://github.com/squillero/computational-intelligence)  \n",
    "Free for personal or classroom use; see [`LICENSE.md`](https://github.com/squillero/computational-intelligence/blob/master/LICENSE.md) for details.  \n"
   ]
  },
  {
   "cell_type": "markdown",
   "metadata": {
    "pycharm": {
     "name": "#%%\n"
    }
   },
   "source": [
    "# Lab 2: ES\n",
    "\n",
    "## Task\n",
    "\n",
    "Write agents able to play [*Nim*](https://en.wikipedia.org/wiki/Nim), with an arbitrary number of rows and an upper bound $k$ on the number of objects that can be removed in a turn (a.k.a., *subtraction game*).\n",
    "\n",
    "The goal of the game is to **avoid** taking the last object.\n",
    "\n",
    "* Task2.1: An agent using fixed rules based on *nim-sum* (i.e., an *expert system*)\n",
    "* Task2.2: An agent using evolved rules using ES\n",
    "\n",
    "## Instructions\n",
    "\n",
    "* Create the directory `lab2` inside your personal course repository for the course \n",
    "* Put a `README.md` and your solution (all the files, code and auxiliary data if needed)\n",
    "\n",
    "## Notes\n",
    "\n",
    "* Working in group is not only allowed, but recommended (see: [Ubuntu](https://en.wikipedia.org/wiki/Ubuntu_philosophy) and [Cooperative Learning](https://files.eric.ed.gov/fulltext/EJ1096789.pdf)). Collaborations must be explicitly declared in the `README.md`.\n",
    "* [Yanking](https://www.emacswiki.org/emacs/KillingAndYanking) from the internet is allowed, but sources must be explicitly declared in the `README.md`.\n",
    "\n"
   ]
  },
  {
   "cell_type": "code",
   "execution_count": 1,
   "metadata": {},
   "outputs": [],
   "source": [
    "import logging\n",
    "from pprint import pprint, pformat\n",
    "from collections import namedtuple\n",
    "import random\n",
    "from copy import deepcopy"
   ]
  },
  {
   "cell_type": "markdown",
   "metadata": {},
   "source": [
    "## The *Nim* and *Nimply* classes"
   ]
  },
  {
   "cell_type": "code",
   "execution_count": 2,
   "metadata": {},
   "outputs": [],
   "source": [
    "Nimply = namedtuple(\"Nimply\", \"row, num_objects\")\n"
   ]
  },
  {
   "cell_type": "code",
   "execution_count": 3,
   "metadata": {},
   "outputs": [],
   "source": [
    "class Nim:\n",
    "    def __init__(self, num_rows: int, k: int = None) -> None:\n",
    "        self._rows = [i * 2 + 1 for i in range(num_rows)]\n",
    "        self._k = k\n",
    "\n",
    "    def __bool__(self):\n",
    "        return sum(self._rows) > 0\n",
    "\n",
    "    def __str__(self):\n",
    "        return \"<\" + \" \".join(str(_) for _ in self._rows) + \">\"\n",
    "\n",
    "    @property\n",
    "    def rows(self) -> tuple:\n",
    "        return tuple(self._rows)\n",
    "\n",
    "    def nimming(self, ply: Nimply) -> None:\n",
    "        row, num_objects = ply\n",
    "        assert self._rows[row] >= num_objects\n",
    "        assert self._k is None or num_objects <= self._k\n",
    "        self._rows[row] -= num_objects"
   ]
  },
  {
   "cell_type": "markdown",
   "metadata": {},
   "source": [
    "## Sample (and silly) startegies "
   ]
  },
  {
   "cell_type": "code",
   "execution_count": 4,
   "metadata": {},
   "outputs": [],
   "source": [
    "def pure_random(state: Nim) -> Nimply:\n",
    "    \"\"\"A completely random move\"\"\"\n",
    "    row = random.choice([r for r, c in enumerate(state.rows) if c > 0])\n",
    "    num_objects = random.randint(1, state.rows[row])\n",
    "    return Nimply(row, num_objects)\n"
   ]
  },
  {
   "cell_type": "code",
   "execution_count": 5,
   "metadata": {},
   "outputs": [],
   "source": [
    "def gabriele(state: Nim) -> Nimply:\n",
    "    \"\"\"Pick always the maximum possible number of the lowest row\"\"\"\n",
    "    possible_moves = [(r, o) for r, c in enumerate(state.rows) for o in range(1, c + 1)]\n",
    "    return Nimply(*max(possible_moves, key=lambda m: (-m[0], m[1])))\n"
   ]
  },
  {
   "cell_type": "code",
   "execution_count": 6,
   "metadata": {},
   "outputs": [],
   "source": [
    "import numpy as np\n",
    "\n",
    "def nim_sum(state: Nim) -> int:\n",
    "    tmp = np.array([tuple(int(x) for x in f\"{c:032b}\") for c in state.rows])\n",
    "    xor = tmp.sum(axis=0) % 2\n",
    "    return int(\"\".join(str(_) for _ in xor), base=2)\n",
    "\n",
    "def analize(raw: Nim) -> dict:\n",
    "    cooked = dict()\n",
    "    cooked[\"possible_moves\"] = dict()\n",
    "    for ply in (Nimply(r, o) for r, c in enumerate(raw.rows) for o in range(1, c + 1)):\n",
    "        tmp = deepcopy(raw)\n",
    "        tmp.nimming(ply)\n",
    "        cooked[\"possible_moves\"][ply] = nim_sum(tmp)\n",
    "    return cooked\n",
    "\n",
    "def optimal(state: Nim) -> Nimply:\n",
    "    analysis = analize(state)\n",
    "    logging.debug(f\"analysis:\\n{pformat(analysis)}\")\n",
    "    spicy_moves = [ply for ply, ns in analysis[\"possible_moves\"].items() if ns != 0]\n",
    "    if not spicy_moves:\n",
    "        spicy_moves = list(analysis[\"possible_moves\"].keys())\n",
    "    ply = random.choice(spicy_moves)\n",
    "    return ply\n"
   ]
  },
  {
   "cell_type": "markdown",
   "metadata": {},
   "source": [
    "# Evolutional Strategy approach"
   ]
  },
  {
   "cell_type": "markdown",
   "metadata": {},
   "source": [
    "### Genome"
   ]
  },
  {
   "cell_type": "code",
   "execution_count": 7,
   "metadata": {},
   "outputs": [],
   "source": [
    "def generate_random_genome():\n",
    "    random_genome = {\n",
    "        \"preference\": random.uniform(0, 1),  # Imposta un valore casuale tra 0 e 1 per la preferenza\n",
    "        \"use_lower_half\": random.choice([True, False]),  # Sceglie casualmente tra True e False\n",
    "        \"fitness\": 0 \n",
    "    }   \n",
    "    return random_genome"
   ]
  },
  {
   "cell_type": "markdown",
   "metadata": {},
   "source": [
    "### Adaptive Function"
   ]
  },
  {
   "cell_type": "code",
   "execution_count": 8,
   "metadata": {},
   "outputs": [],
   "source": [
    "def adaptive_strategy(genome):\n",
    "    def adaptive(state):\n",
    "        # Analizza lo stato del gioco per ottenere informazioni sulle possibili mosse\n",
    "        analysis = analize(state)\n",
    "        possible_moves = analysis['possible_moves']\n",
    "\n",
    "        # Calcola il minimo e il massimo NimSum tra tutte le possibili mosse\n",
    "        nimsum_values = list(possible_moves.values())\n",
    "        min_nimsum = min(nimsum_values)\n",
    "        max_nimsum = max(nimsum_values)\n",
    "        threshold = (min_nimsum + max_nimsum) / 2\n",
    "\n",
    "        preference = genome.get(\"preference\", 0.5)\n",
    "        use_lower_half = genome.get(\"use_lower_half\", True)\n",
    "\n",
    "        valid_moves = [ply for ply, _ in possible_moves.items()]\n",
    "\n",
    "        if random.random() < preference:\n",
    "            if use_lower_half:\n",
    "                # Scegli tra le mosse con NimSum nell'intervallo tra il minimo e il valore medio\n",
    "                valid_moves = [ply for ply, ns in possible_moves.items() if min_nimsum <= ns <= threshold]\n",
    "            else:\n",
    "                # Scegli tra le mosse con NimSum nell'intervallo tra il valore medio e il massimo\n",
    "                valid_moves = [ply for ply, ns in possible_moves.items() if threshold <= ns <= max_nimsum]\n",
    "\n",
    "        # Scegli casualmente tra tutte le possibili mosse\n",
    "        chosen_move = random.choice(valid_moves) if valid_moves else random.choice(list(possible_moves.keys()))\n",
    "\n",
    "        return chosen_move\n",
    "\n",
    "    return adaptive"
   ]
  },
  {
   "cell_type": "markdown",
   "metadata": {},
   "source": [
    "### Parent Selection"
   ]
  },
  {
   "cell_type": "code",
   "execution_count": 9,
   "metadata": {},
   "outputs": [],
   "source": [
    "def tournament_selection(population, tournament_size):\n",
    "     # Seleziona casualmente gli individui per il torneo\n",
    "    tournament_participants = random.sample(list(population), tournament_size)\n",
    "    # Trova l'individuo migliore nel torneo basato su una funzione di fitness\n",
    "    winner = max(tournament_participants, key=lambda player: player['fitness'])\n",
    "    return winner"
   ]
  },
  {
   "cell_type": "markdown",
   "metadata": {},
   "source": [
    "### Crossover"
   ]
  },
  {
   "cell_type": "code",
   "execution_count": 10,
   "metadata": {},
   "outputs": [],
   "source": [
    "def crossover(parent1, parent2):\n",
    "    # Calcola i pesi basati sulla fitness dei genitori\n",
    "    total_fitness = parent1['fitness'] + parent2['fitness']\n",
    "    weight_parent1 = parent1['fitness'] / total_fitness\n",
    "    weight_parent2 = parent2['fitness'] / total_fitness\n",
    "\n",
    "    # Creazione di un genoma figlio\n",
    "    child_genome = {\n",
    "        \"preference\": None,\n",
    "        \"use_lower_half\": None,\n",
    "        \"fitness\": 0\n",
    "    }\n",
    "\n",
    "    # Pondera la scelta delle chiavi specifiche sulla fitness dei genitori\n",
    "    for key in [\"preference\", \"use_lower_half\"]:\n",
    "        child_genome[key] = parent1[key] if random.random() < weight_parent1 else parent2[key]\n",
    "\n",
    "    return child_genome"
   ]
  },
  {
   "cell_type": "markdown",
   "metadata": {},
   "source": [
    "### Mutation"
   ]
  },
  {
   "cell_type": "code",
   "execution_count": 11,
   "metadata": {},
   "outputs": [],
   "source": [
    "def mutate(child_genome, mutation_rate):\n",
    "     # Mutazione per la chiave \"preference\"\n",
    "    if random.random() < mutation_rate:\n",
    "        child_genome[\"preference\"] = random.uniform(0, 1)\n",
    "    # Mutazione per la chiave \"use_lower_half\"\n",
    "    if random.random() < mutation_rate:\n",
    "        child_genome[\"use_lower_half\"] = random.choice([True, False])\n",
    "\n",
    "    return child_genome"
   ]
  },
  {
   "cell_type": "markdown",
   "metadata": {},
   "source": [
    "### Generate Population"
   ]
  },
  {
   "cell_type": "code",
   "execution_count": 12,
   "metadata": {},
   "outputs": [],
   "source": [
    "import copy\n",
    "\n",
    "def generate_new_population(selected_parents, n_individuals, mutation_rate):\n",
    "    new_population = []\n",
    "    # Crossover e mutazione per generare nuovi individui fino a raggiungere la dimensione desiderata\n",
    "    while len(new_population) < n_individuals:\n",
    "        # Seleziona due genitori casuali dalla lista dei genitori selezionati\n",
    "        parent1 = random.choice(selected_parents)\n",
    "        parent2 = random.choice(selected_parents)\n",
    "        \n",
    "        # Applica crossover per creare un figlio\n",
    "        child_genome = crossover(parent1, parent2)\n",
    "\n",
    "        # Applica mutazione al genoma del figlio\n",
    "        child_genome = mutate(child_genome, mutation_rate)\n",
    "\n",
    "        # Aggiungi l'individuo con il genoma mutato alla nuova popolazione\n",
    "        new_population.append(child_genome)\n",
    "\n",
    "    return new_population"
   ]
  },
  {
   "cell_type": "markdown",
   "metadata": {},
   "source": [
    "### Simulation"
   ]
  },
  {
   "cell_type": "code",
   "execution_count": 13,
   "metadata": {},
   "outputs": [],
   "source": [
    "def play_nim_game(strategy1, strategy2, initial_nim_state):\n",
    "    nim = initial_nim_state\n",
    "    player = 0\n",
    "    while nim:\n",
    "        ply = strategy1(nim) if player == 0 else strategy2(nim)\n",
    "        nim.nimming(ply)\n",
    "        player = 1 - player\n",
    "    return player"
   ]
  },
  {
   "cell_type": "code",
   "execution_count": 14,
   "metadata": {},
   "outputs": [],
   "source": [
    "def find_best_player(population):\n",
    "    best_player = max(population, key=lambda x: x[\"fitness\"])\n",
    "    return best_player"
   ]
  },
  {
   "cell_type": "code",
   "execution_count": 15,
   "metadata": {},
   "outputs": [],
   "source": [
    "def simulation(generations, n_games, pop_size, n_parents, tournament_size, mutation_rate):\n",
    "  #Genera una popolazione random\n",
    "  population = np.array([[generate_random_genome() for _ in range(pop_size)]])\n",
    "\n",
    "  #Inizializza contatori\n",
    "  count_games_x_generation = 0\n",
    "  count_win_x_generation = 0\n",
    "  percentage_won_x_generation = 0\n",
    "  count_win_vs_gabriele = 0\n",
    "  count_win_vs_pure_random = 0\n",
    "  count_win_vs_optimal = 0\n",
    "\n",
    "\n",
    "  #Inizia la simulazione\n",
    "  for generation in range(generations):\n",
    "\n",
    "    #Stampe per le statistiche\n",
    "    print(f\"Generazione {generation+1}:\")\n",
    "\n",
    "    #Per ogni giocatore x partite\n",
    "    for player in population[generation]:\n",
    "      for _ in range(n_games):\n",
    "\n",
    "        count_games_x_generation += 1\n",
    "\n",
    "        adaptive = adaptive_strategy(player)\n",
    "        strategy = (adaptive, optimal)\n",
    "        winner = play_nim_game(strategy[0], strategy[1], Nim(5))\n",
    "        #Aggiorna la fitness se il giocatore vince\n",
    "        if winner == 0:\n",
    "          player[\"fitness\"] +=1\n",
    "\n",
    "          count_win_x_generation += 1\n",
    "          \n",
    "    #Stampe per le statistiche\n",
    "    percentage_won_x_generation = count_win_x_generation / count_games_x_generation * 100\n",
    "    print(f\"They won {count_win_x_generation} games in {count_games_x_generation} games\")\n",
    "    print(f\"The percentage of won games of this generation is: {percentage_won_x_generation}%\")\n",
    "    count_games_x_generation = 0\n",
    "    count_win_x_generation = 0\n",
    "    \n",
    "    selected_parents = []\n",
    "\n",
    "    #Seleziona x parent per la nuova popolazione\n",
    "    for _ in range(n_parents):\n",
    "      selected_parents.append(tournament_selection(population[generation], tournament_size))\n",
    "      \n",
    "    new_population = generate_new_population(selected_parents, pop_size, mutation_rate)\n",
    "\n",
    "    population=np.append(population, [new_population], axis=0)\n",
    "\n",
    "  best_player = find_best_player(population[generation])\n",
    "  \n",
    "  print(\"Best Player vs Gabriele Strategy:\")\n",
    "  for _ in range(1000):\n",
    "    adaptive = adaptive_strategy(best_player)\n",
    "    strategy = (adaptive, gabriele)\n",
    "    winner = play_nim_game(strategy[0], strategy[1], Nim(5))\n",
    "    #Aggiorna la fitness se il giocatore vince\n",
    "    if winner == 0:\n",
    "      count_win_vs_gabriele += 1\n",
    "  print(f\"They won {count_win_vs_gabriele} games in 1000 games\")\n",
    "  print(f\"The percentage of won games is: {count_win_vs_gabriele / 10}%\")\n",
    "\n",
    "  print(\"Best Player vs Pure Random Strategy:\")\n",
    "  for _ in range(1000):\n",
    "    adaptive = adaptive_strategy(best_player)\n",
    "    strategy = (adaptive, pure_random)\n",
    "    winner = play_nim_game(strategy[0], strategy[1], Nim(5))\n",
    "    #Aggiorna la fitness se il giocatore vince\n",
    "    if winner == 0:\n",
    "      count_win_vs_pure_random += 1\n",
    "  print(f\"They won {count_win_vs_pure_random} games in 1000 games\")\n",
    "  print(f\"The percentage of won games is: {count_win_vs_pure_random / 10}%\")\n",
    "\n",
    "  print(\"Best Player vs Optimal: The Rematch!\")\n",
    "  for _ in range(1000):\n",
    "    adaptive = adaptive_strategy(best_player)\n",
    "    strategy = (adaptive, optimal)\n",
    "    winner = play_nim_game(strategy[0], strategy[1], Nim(5))\n",
    "    #Aggiorna la fitness se il giocatore vince\n",
    "    if winner == 0:\n",
    "      count_win_vs_optimal += 1\n",
    "  print(f\"They won {count_win_vs_optimal} games in 1000 games\")\n",
    "  print(f\"The percentage of won games is: {count_win_vs_optimal / 10}%\")\n",
    "  \n",
    "  return population"
   ]
  },
  {
   "cell_type": "code",
   "execution_count": 16,
   "metadata": {},
   "outputs": [
    {
     "name": "stdout",
     "output_type": "stream",
     "text": [
      "Generazione 1:\n",
      "They won 1734 games in 5000 games\n",
      "The percentage of won games of this generation is: 34.68%\n",
      "Generazione 2:\n",
      "They won 1899 games in 5000 games\n",
      "The percentage of won games of this generation is: 37.980000000000004%\n",
      "Generazione 3:\n",
      "They won 1866 games in 5000 games\n",
      "The percentage of won games of this generation is: 37.32%\n",
      "Generazione 4:\n",
      "They won 1841 games in 5000 games\n",
      "The percentage of won games of this generation is: 36.82%\n",
      "Generazione 5:\n",
      "They won 1795 games in 5000 games\n",
      "The percentage of won games of this generation is: 35.9%\n",
      "Generazione 6:\n"
     ]
    },
    {
     "ename": "KeyboardInterrupt",
     "evalue": "",
     "output_type": "error",
     "traceback": [
      "\u001b[1;31m---------------------------------------------------------------------------\u001b[0m",
      "\u001b[1;31mKeyboardInterrupt\u001b[0m                         Traceback (most recent call last)",
      "\u001b[1;32mc:\\Users\\Utente\\Documents\\GitHub\\Computetional-intelligence\\lab2\\lab2-nim.ipynb Cell 28\u001b[0m line \u001b[0;36m1\n\u001b[1;32m----> <a href='vscode-notebook-cell:/c%3A/Users/Utente/Documents/GitHub/Computetional-intelligence/lab2/lab2-nim.ipynb#X36sZmlsZQ%3D%3D?line=0'>1</a>\u001b[0m pop \u001b[39m=\u001b[39m simulation(generations\u001b[39m=\u001b[39;49m \u001b[39m10\u001b[39;49m, n_games\u001b[39m=\u001b[39;49m\u001b[39m50\u001b[39;49m, pop_size\u001b[39m=\u001b[39;49m\u001b[39m100\u001b[39;49m, n_parents\u001b[39m=\u001b[39;49m\u001b[39m50\u001b[39;49m, tournament_size\u001b[39m=\u001b[39;49m\u001b[39m20\u001b[39;49m, mutation_rate \u001b[39m=\u001b[39;49m \u001b[39m0.10\u001b[39;49m)\n",
      "\u001b[1;32mc:\\Users\\Utente\\Documents\\GitHub\\Computetional-intelligence\\lab2\\lab2-nim.ipynb Cell 28\u001b[0m line \u001b[0;36m2\n\u001b[0;32m     <a href='vscode-notebook-cell:/c%3A/Users/Utente/Documents/GitHub/Computetional-intelligence/lab2/lab2-nim.ipynb#X36sZmlsZQ%3D%3D?line=25'>26</a>\u001b[0m adaptive \u001b[39m=\u001b[39m adaptive_strategy(player)\n\u001b[0;32m     <a href='vscode-notebook-cell:/c%3A/Users/Utente/Documents/GitHub/Computetional-intelligence/lab2/lab2-nim.ipynb#X36sZmlsZQ%3D%3D?line=26'>27</a>\u001b[0m strategy \u001b[39m=\u001b[39m (adaptive, optimal)\n\u001b[1;32m---> <a href='vscode-notebook-cell:/c%3A/Users/Utente/Documents/GitHub/Computetional-intelligence/lab2/lab2-nim.ipynb#X36sZmlsZQ%3D%3D?line=27'>28</a>\u001b[0m winner \u001b[39m=\u001b[39m play_nim_game(strategy[\u001b[39m0\u001b[39;49m], strategy[\u001b[39m1\u001b[39;49m], Nim(\u001b[39m5\u001b[39;49m))\n\u001b[0;32m     <a href='vscode-notebook-cell:/c%3A/Users/Utente/Documents/GitHub/Computetional-intelligence/lab2/lab2-nim.ipynb#X36sZmlsZQ%3D%3D?line=28'>29</a>\u001b[0m \u001b[39m#Aggiorna la fitness se il giocatore vince\u001b[39;00m\n\u001b[0;32m     <a href='vscode-notebook-cell:/c%3A/Users/Utente/Documents/GitHub/Computetional-intelligence/lab2/lab2-nim.ipynb#X36sZmlsZQ%3D%3D?line=29'>30</a>\u001b[0m \u001b[39mif\u001b[39;00m winner \u001b[39m==\u001b[39m \u001b[39m0\u001b[39m:\n",
      "\u001b[1;32mc:\\Users\\Utente\\Documents\\GitHub\\Computetional-intelligence\\lab2\\lab2-nim.ipynb Cell 28\u001b[0m line \u001b[0;36m5\n\u001b[0;32m      <a href='vscode-notebook-cell:/c%3A/Users/Utente/Documents/GitHub/Computetional-intelligence/lab2/lab2-nim.ipynb#X36sZmlsZQ%3D%3D?line=2'>3</a>\u001b[0m player \u001b[39m=\u001b[39m \u001b[39m0\u001b[39m\n\u001b[0;32m      <a href='vscode-notebook-cell:/c%3A/Users/Utente/Documents/GitHub/Computetional-intelligence/lab2/lab2-nim.ipynb#X36sZmlsZQ%3D%3D?line=3'>4</a>\u001b[0m \u001b[39mwhile\u001b[39;00m nim:\n\u001b[1;32m----> <a href='vscode-notebook-cell:/c%3A/Users/Utente/Documents/GitHub/Computetional-intelligence/lab2/lab2-nim.ipynb#X36sZmlsZQ%3D%3D?line=4'>5</a>\u001b[0m     ply \u001b[39m=\u001b[39m strategy1(nim) \u001b[39mif\u001b[39;00m player \u001b[39m==\u001b[39m \u001b[39m0\u001b[39m \u001b[39melse\u001b[39;00m strategy2(nim)\n\u001b[0;32m      <a href='vscode-notebook-cell:/c%3A/Users/Utente/Documents/GitHub/Computetional-intelligence/lab2/lab2-nim.ipynb#X36sZmlsZQ%3D%3D?line=5'>6</a>\u001b[0m     nim\u001b[39m.\u001b[39mnimming(ply)\n\u001b[0;32m      <a href='vscode-notebook-cell:/c%3A/Users/Utente/Documents/GitHub/Computetional-intelligence/lab2/lab2-nim.ipynb#X36sZmlsZQ%3D%3D?line=6'>7</a>\u001b[0m     player \u001b[39m=\u001b[39m \u001b[39m1\u001b[39m \u001b[39m-\u001b[39m player\n",
      "\u001b[1;32mc:\\Users\\Utente\\Documents\\GitHub\\Computetional-intelligence\\lab2\\lab2-nim.ipynb Cell 28\u001b[0m line \u001b[0;36m1\n\u001b[0;32m     <a href='vscode-notebook-cell:/c%3A/Users/Utente/Documents/GitHub/Computetional-intelligence/lab2/lab2-nim.ipynb#X36sZmlsZQ%3D%3D?line=16'>17</a>\u001b[0m \u001b[39mdef\u001b[39;00m \u001b[39moptimal\u001b[39m(state: Nim) \u001b[39m-\u001b[39m\u001b[39m>\u001b[39m Nimply:\n\u001b[1;32m---> <a href='vscode-notebook-cell:/c%3A/Users/Utente/Documents/GitHub/Computetional-intelligence/lab2/lab2-nim.ipynb#X36sZmlsZQ%3D%3D?line=17'>18</a>\u001b[0m     analysis \u001b[39m=\u001b[39m analize(state)\n\u001b[0;32m     <a href='vscode-notebook-cell:/c%3A/Users/Utente/Documents/GitHub/Computetional-intelligence/lab2/lab2-nim.ipynb#X36sZmlsZQ%3D%3D?line=18'>19</a>\u001b[0m     logging\u001b[39m.\u001b[39mdebug(\u001b[39mf\u001b[39m\u001b[39m\"\u001b[39m\u001b[39manalysis:\u001b[39m\u001b[39m\\n\u001b[39;00m\u001b[39m{\u001b[39;00mpformat(analysis)\u001b[39m}\u001b[39;00m\u001b[39m\"\u001b[39m)\n\u001b[0;32m     <a href='vscode-notebook-cell:/c%3A/Users/Utente/Documents/GitHub/Computetional-intelligence/lab2/lab2-nim.ipynb#X36sZmlsZQ%3D%3D?line=19'>20</a>\u001b[0m     spicy_moves \u001b[39m=\u001b[39m [ply \u001b[39mfor\u001b[39;00m ply, ns \u001b[39min\u001b[39;00m analysis[\u001b[39m\"\u001b[39m\u001b[39mpossible_moves\u001b[39m\u001b[39m\"\u001b[39m]\u001b[39m.\u001b[39mitems() \u001b[39mif\u001b[39;00m ns \u001b[39m!=\u001b[39m \u001b[39m0\u001b[39m]\n",
      "\u001b[1;32mc:\\Users\\Utente\\Documents\\GitHub\\Computetional-intelligence\\lab2\\lab2-nim.ipynb Cell 28\u001b[0m line \u001b[0;36m1\n\u001b[0;32m     <a href='vscode-notebook-cell:/c%3A/Users/Utente/Documents/GitHub/Computetional-intelligence/lab2/lab2-nim.ipynb#X36sZmlsZQ%3D%3D?line=11'>12</a>\u001b[0m     tmp \u001b[39m=\u001b[39m deepcopy(raw)\n\u001b[0;32m     <a href='vscode-notebook-cell:/c%3A/Users/Utente/Documents/GitHub/Computetional-intelligence/lab2/lab2-nim.ipynb#X36sZmlsZQ%3D%3D?line=12'>13</a>\u001b[0m     tmp\u001b[39m.\u001b[39mnimming(ply)\n\u001b[1;32m---> <a href='vscode-notebook-cell:/c%3A/Users/Utente/Documents/GitHub/Computetional-intelligence/lab2/lab2-nim.ipynb#X36sZmlsZQ%3D%3D?line=13'>14</a>\u001b[0m     cooked[\u001b[39m\"\u001b[39m\u001b[39mpossible_moves\u001b[39m\u001b[39m\"\u001b[39m][ply] \u001b[39m=\u001b[39m nim_sum(tmp)\n\u001b[0;32m     <a href='vscode-notebook-cell:/c%3A/Users/Utente/Documents/GitHub/Computetional-intelligence/lab2/lab2-nim.ipynb#X36sZmlsZQ%3D%3D?line=14'>15</a>\u001b[0m \u001b[39mreturn\u001b[39;00m cooked\n",
      "\u001b[1;32mc:\\Users\\Utente\\Documents\\GitHub\\Computetional-intelligence\\lab2\\lab2-nim.ipynb Cell 28\u001b[0m line \u001b[0;36m5\n\u001b[0;32m      <a href='vscode-notebook-cell:/c%3A/Users/Utente/Documents/GitHub/Computetional-intelligence/lab2/lab2-nim.ipynb#X36sZmlsZQ%3D%3D?line=2'>3</a>\u001b[0m \u001b[39mdef\u001b[39;00m \u001b[39mnim_sum\u001b[39m(state: Nim) \u001b[39m-\u001b[39m\u001b[39m>\u001b[39m \u001b[39mint\u001b[39m:\n\u001b[0;32m      <a href='vscode-notebook-cell:/c%3A/Users/Utente/Documents/GitHub/Computetional-intelligence/lab2/lab2-nim.ipynb#X36sZmlsZQ%3D%3D?line=3'>4</a>\u001b[0m     tmp \u001b[39m=\u001b[39m np\u001b[39m.\u001b[39marray([\u001b[39mtuple\u001b[39m(\u001b[39mint\u001b[39m(x) \u001b[39mfor\u001b[39;00m x \u001b[39min\u001b[39;00m \u001b[39mf\u001b[39m\u001b[39m\"\u001b[39m\u001b[39m{\u001b[39;00mc\u001b[39m:\u001b[39;00m\u001b[39m032b\u001b[39m\u001b[39m}\u001b[39;00m\u001b[39m\"\u001b[39m) \u001b[39mfor\u001b[39;00m c \u001b[39min\u001b[39;00m state\u001b[39m.\u001b[39mrows])\n\u001b[1;32m----> <a href='vscode-notebook-cell:/c%3A/Users/Utente/Documents/GitHub/Computetional-intelligence/lab2/lab2-nim.ipynb#X36sZmlsZQ%3D%3D?line=4'>5</a>\u001b[0m     xor \u001b[39m=\u001b[39m tmp\u001b[39m.\u001b[39;49msum(axis\u001b[39m=\u001b[39;49m\u001b[39m0\u001b[39;49m) \u001b[39m%\u001b[39m \u001b[39m2\u001b[39m\n\u001b[0;32m      <a href='vscode-notebook-cell:/c%3A/Users/Utente/Documents/GitHub/Computetional-intelligence/lab2/lab2-nim.ipynb#X36sZmlsZQ%3D%3D?line=5'>6</a>\u001b[0m     \u001b[39mreturn\u001b[39;00m \u001b[39mint\u001b[39m(\u001b[39m\"\u001b[39m\u001b[39m\"\u001b[39m\u001b[39m.\u001b[39mjoin(\u001b[39mstr\u001b[39m(_) \u001b[39mfor\u001b[39;00m _ \u001b[39min\u001b[39;00m xor), base\u001b[39m=\u001b[39m\u001b[39m2\u001b[39m)\n",
      "File \u001b[1;32m~\\AppData\\Local\\Packages\\PythonSoftwareFoundation.Python.3.11_qbz5n2kfra8p0\\LocalCache\\local-packages\\Python311\\site-packages\\numpy\\core\\_methods.py:47\u001b[0m, in \u001b[0;36m_sum\u001b[1;34m(a, axis, dtype, out, keepdims, initial, where)\u001b[0m\n\u001b[0;32m     43\u001b[0m \u001b[39mdef\u001b[39;00m \u001b[39m_amin\u001b[39m(a, axis\u001b[39m=\u001b[39m\u001b[39mNone\u001b[39;00m, out\u001b[39m=\u001b[39m\u001b[39mNone\u001b[39;00m, keepdims\u001b[39m=\u001b[39m\u001b[39mFalse\u001b[39;00m,\n\u001b[0;32m     44\u001b[0m           initial\u001b[39m=\u001b[39m_NoValue, where\u001b[39m=\u001b[39m\u001b[39mTrue\u001b[39;00m):\n\u001b[0;32m     45\u001b[0m     \u001b[39mreturn\u001b[39;00m umr_minimum(a, axis, \u001b[39mNone\u001b[39;00m, out, keepdims, initial, where)\n\u001b[1;32m---> 47\u001b[0m \u001b[39mdef\u001b[39;00m \u001b[39m_sum\u001b[39m(a, axis\u001b[39m=\u001b[39m\u001b[39mNone\u001b[39;00m, dtype\u001b[39m=\u001b[39m\u001b[39mNone\u001b[39;00m, out\u001b[39m=\u001b[39m\u001b[39mNone\u001b[39;00m, keepdims\u001b[39m=\u001b[39m\u001b[39mFalse\u001b[39;00m,\n\u001b[0;32m     48\u001b[0m          initial\u001b[39m=\u001b[39m_NoValue, where\u001b[39m=\u001b[39m\u001b[39mTrue\u001b[39;00m):\n\u001b[0;32m     49\u001b[0m     \u001b[39mreturn\u001b[39;00m umr_sum(a, axis, dtype, out, keepdims, initial, where)\n\u001b[0;32m     51\u001b[0m \u001b[39mdef\u001b[39;00m \u001b[39m_prod\u001b[39m(a, axis\u001b[39m=\u001b[39m\u001b[39mNone\u001b[39;00m, dtype\u001b[39m=\u001b[39m\u001b[39mNone\u001b[39;00m, out\u001b[39m=\u001b[39m\u001b[39mNone\u001b[39;00m, keepdims\u001b[39m=\u001b[39m\u001b[39mFalse\u001b[39;00m,\n\u001b[0;32m     52\u001b[0m           initial\u001b[39m=\u001b[39m_NoValue, where\u001b[39m=\u001b[39m\u001b[39mTrue\u001b[39;00m):\n",
      "\u001b[1;31mKeyboardInterrupt\u001b[0m: "
     ]
    }
   ],
   "source": [
    "pop = simulation(generations= 10, n_games=50, pop_size=100, n_parents=50, tournament_size=20, mutation_rate = 0.10)"
   ]
  }
 ],
 "metadata": {
  "kernelspec": {
   "display_name": "Python 3.10.7 ('ci22-dPIXJ0_o-py3.10')",
   "language": "python",
   "name": "python3"
  },
  "language_info": {
   "codemirror_mode": {
    "name": "ipython",
    "version": 3
   },
   "file_extension": ".py",
   "mimetype": "text/x-python",
   "name": "python",
   "nbconvert_exporter": "python",
   "pygments_lexer": "ipython3",
   "version": "3.11.6"
  },
  "vscode": {
   "interpreter": {
    "hash": "10197e8e2f2aa67e2c349105091c77f4cd384fce4877865f002d9ec653f96bc0"
   }
  }
 },
 "nbformat": 4,
 "nbformat_minor": 2
}
