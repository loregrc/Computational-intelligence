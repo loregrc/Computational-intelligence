{
 "cells": [
  {
   "cell_type": "code",
   "execution_count": null,
   "metadata": {},
   "outputs": [],
   "source": [
    "from game import Game\n",
    "from game2 import Game2\n",
    "from main import RandomPlayer\n",
    "from minimax import MiniMaxPlayer\n",
    "from human_player import HumanPlayer\n",
    "from copy import deepcopy\n",
    "from tqdm.auto import tqdm"
   ]
  },
  {
   "cell_type": "markdown",
   "metadata": {},
   "source": [
    "# AI vs Random"
   ]
  },
  {
   "cell_type": "code",
   "execution_count": 4,
   "metadata": {},
   "outputs": [
    {
     "name": "stdout",
     "output_type": "stream",
     "text": [
      "MiniMax with depth: 1\n"
     ]
    },
    {
     "name": "stderr",
     "output_type": "stream",
     "text": [
      "Game 100: 100%|██████████| 100/100 [00:21<00:00,  4.75 game/s]\n"
     ]
    },
    {
     "name": "stdout",
     "output_type": "stream",
     "text": [
      "MiniMax wins: 100\n",
      "Random wins: 0\n",
      "MiniMax wins percentage: 100.0%\n",
      "\n",
      "MiniMax with depth: 2\n"
     ]
    },
    {
     "name": "stderr",
     "output_type": "stream",
     "text": [
      "Game 100: 100%|██████████| 100/100 [04:35<00:00,  2.75s/ game]\n"
     ]
    },
    {
     "name": "stdout",
     "output_type": "stream",
     "text": [
      "MiniMax wins: 100\n",
      "Random wins: 0\n",
      "MiniMax wins percentage: 100.0%\n",
      "\n",
      "MiniMax with depth: 3\n"
     ]
    },
    {
     "name": "stderr",
     "output_type": "stream",
     "text": [
      "Game 100: 100%|██████████| 100/100 [18:12<00:00, 10.93s/ game]\n"
     ]
    },
    {
     "name": "stdout",
     "output_type": "stream",
     "text": [
      "MiniMax wins: 100\n",
      "Random wins: 0\n",
      "MiniMax wins percentage: 100.0%\n",
      "\n",
      "MiniMax with depth: 4\n"
     ]
    },
    {
     "name": "stderr",
     "output_type": "stream",
     "text": [
      "Game 100: 100%|██████████| 100/100 [3:43:15<00:00, 133.95s/ game]"
     ]
    },
    {
     "name": "stdout",
     "output_type": "stream",
     "text": [
      "MiniMax wins: 100\n",
      "Random wins: 0\n",
      "MiniMax wins percentage: 100.0%\n",
      "\n"
     ]
    },
    {
     "name": "stderr",
     "output_type": "stream",
     "text": [
      "\n"
     ]
    }
   ],
   "source": [
    "n_games = 100\n",
    "max_depths = [1,2,3,4]\n",
    "\n",
    "for depth in max_depths:\n",
    "\n",
    "    n_win_random = 0\n",
    "    n_win_minimax = 0\n",
    "\n",
    "    print(f'MiniMax with depth: {depth}')\n",
    "\n",
    "    with tqdm(range(n_games), unit=\" game\") as games:\n",
    "        for i in games:\n",
    "            games.set_description(f\"Game {i+1}\")\n",
    "            g = Game()\n",
    "            player1 = RandomPlayer()\n",
    "            player2 = MiniMaxPlayer(depth)\n",
    "            if (i < n_games / 2):\n",
    "                winner= g.play(player1, player2)\n",
    "                if winner == 0:\n",
    "                    n_win_random += 1\n",
    "                else:\n",
    "                    n_win_minimax += 1\n",
    "            else:\n",
    "                winner= g.play(player2, player1)\n",
    "                if winner == 1:\n",
    "                    n_win_random += 1\n",
    "                else:\n",
    "                    n_win_minimax += 1\n",
    "                    \n",
    "    print(f'MiniMax wins: {n_win_minimax}')        \n",
    "    print(f'Random wins: {n_win_random}')\n",
    "\n",
    "    print(f'MiniMax wins percentage: {100*n_win_minimax/n_games}%')\n",
    "    print()"
   ]
  },
  {
   "cell_type": "markdown",
   "metadata": {},
   "source": [
    "# Play against AI!"
   ]
  },
  {
   "cell_type": "markdown",
   "metadata": {},
   "source": [
    "### You start first:"
   ]
  },
  {
   "cell_type": "code",
   "execution_count": null,
   "metadata": {},
   "outputs": [],
   "source": [
    "#When output is truncated, select 'View as scrollable element'\n",
    "\n",
    "player1 = HumanPlayer()\n",
    "player2 = MiniMaxPlayer(2)\n",
    "\n",
    "g = Game()\n",
    "\n",
    "board = deepcopy(g.get_board())\n",
    "game = Game2(board, g.get_current_player())\n",
    "\n",
    "winner = game.play(player1,player2)\n",
    "\n",
    "if winner == 0:\n",
    "    print(\"You won! Congratulations!\")\n",
    "else:\n",
    "    print(\"Minimax Player won!\")"
   ]
  },
  {
   "cell_type": "markdown",
   "metadata": {},
   "source": [
    "### You start second:"
   ]
  },
  {
   "cell_type": "code",
   "execution_count": null,
   "metadata": {},
   "outputs": [],
   "source": [
    "#When output is truncated, select 'View as scrollable element'\n",
    "\n",
    "player1 = HumanPlayer()\n",
    "player2 = MiniMaxPlayer(2)\n",
    "\n",
    "g = Game()\n",
    "\n",
    "board = deepcopy(g.get_board())\n",
    "game = Game2(board, g.get_current_player())\n",
    "\n",
    "winner = game.play(player2,player1)\n",
    "\n",
    "if winner == 0:\n",
    "    print(\"You won! Congratulations!\")\n",
    "else:\n",
    "    print(\"Minimax Player won!\")"
   ]
  },
  {
   "cell_type": "markdown",
   "metadata": {},
   "source": [
    "# Play against Random!"
   ]
  },
  {
   "cell_type": "markdown",
   "metadata": {},
   "source": [
    "### You start first:"
   ]
  },
  {
   "cell_type": "code",
   "execution_count": 7,
   "metadata": {},
   "outputs": [
    {
     "name": "stdout",
     "output_type": "stream",
     "text": [
      "  0 1 2 3 4 \n",
      "0 - - - - - \n",
      "1 - - - - - \n",
      "2 - - - - - \n",
      "3 - - - - - \n",
      "4 - - - - - \n",
      "\n",
      "(0, 0) Move.BOTTOM\n",
      "  0 1 2 3 4 \n",
      "0 - - - - - \n",
      "1 - - - - - \n",
      "2 - - - - - \n",
      "3 - - - - - \n",
      "4 \u001b[91mX\u001b[0m - - - - \n",
      "\n",
      "(4, 4) Move.LEFT\n",
      "  0 1 2 3 4 \n",
      "0 - - - - - \n",
      "1 - - - - - \n",
      "2 - - - - - \n",
      "3 - - - - - \n",
      "4 \u001b[92mO\u001b[0m \u001b[91mX\u001b[0m - - - \n",
      "\n",
      "(0, 0) Move.BOTTOM\n",
      "  0 1 2 3 4 \n",
      "0 - - - - - \n",
      "1 - - - - - \n",
      "2 - - - - - \n",
      "3 \u001b[92mO\u001b[0m - - - - \n",
      "4 \u001b[91mX\u001b[0m \u001b[91mX\u001b[0m - - - \n",
      "\n",
      "(3, 4) Move.RIGHT\n",
      "  0 1 2 3 4 \n",
      "0 - - - - - \n",
      "1 - - - - - \n",
      "2 - - - - - \n",
      "3 \u001b[92mO\u001b[0m - - - - \n",
      "4 \u001b[91mX\u001b[0m \u001b[91mX\u001b[0m - - \u001b[92mO\u001b[0m \n",
      "\n",
      "(2, 0) Move.BOTTOM\n",
      "  0 1 2 3 4 \n",
      "0 - - - - - \n",
      "1 - - - - - \n",
      "2 - - - - - \n",
      "3 \u001b[92mO\u001b[0m - - - - \n",
      "4 \u001b[91mX\u001b[0m \u001b[91mX\u001b[0m \u001b[91mX\u001b[0m - \u001b[92mO\u001b[0m \n",
      "\n",
      "(4, 3) Move.BOTTOM\n",
      "  0 1 2 3 4 \n",
      "0 - - - - - \n",
      "1 - - - - - \n",
      "2 - - - - - \n",
      "3 \u001b[92mO\u001b[0m - - - \u001b[92mO\u001b[0m \n",
      "4 \u001b[91mX\u001b[0m \u001b[91mX\u001b[0m \u001b[91mX\u001b[0m - \u001b[92mO\u001b[0m \n",
      "\n",
      "(3, 0) Move.BOTTOM\n",
      "  0 1 2 3 4 \n",
      "0 - - - - - \n",
      "1 - - - - - \n",
      "2 - - - - - \n",
      "3 \u001b[92mO\u001b[0m - - - \u001b[92mO\u001b[0m \n",
      "4 \u001b[91mX\u001b[0m \u001b[91mX\u001b[0m \u001b[91mX\u001b[0m \u001b[91mX\u001b[0m \u001b[92mO\u001b[0m \n",
      "\n",
      "(0, 2) Move.TOP\n",
      "  0 1 2 3 4 \n",
      "0 \u001b[92mO\u001b[0m - - - - \n",
      "1 - - - - - \n",
      "2 - - - - - \n",
      "3 \u001b[92mO\u001b[0m - - - \u001b[92mO\u001b[0m \n",
      "4 \u001b[91mX\u001b[0m \u001b[91mX\u001b[0m \u001b[91mX\u001b[0m \u001b[91mX\u001b[0m \u001b[92mO\u001b[0m \n",
      "\n",
      "(4, 0) Move.BOTTOM\n",
      "  0 1 2 3 4 \n",
      "0 \u001b[92mO\u001b[0m - - - - \n",
      "1 - - - - - \n",
      "2 - - - - \u001b[92mO\u001b[0m \n",
      "3 \u001b[92mO\u001b[0m - - - \u001b[92mO\u001b[0m \n",
      "4 \u001b[91mX\u001b[0m \u001b[91mX\u001b[0m \u001b[91mX\u001b[0m \u001b[91mX\u001b[0m \u001b[91mX\u001b[0m \n",
      "\n",
      "You won! Congratulations!\n"
     ]
    }
   ],
   "source": [
    "#When output is truncated, select 'View as scrollable element'\n",
    "\n",
    "player1 = HumanPlayer()\n",
    "player2 = RandomPlayer()\n",
    "\n",
    "g = Game()\n",
    "\n",
    "board = deepcopy(g.get_board())\n",
    "game = Game2(board, g.get_current_player())\n",
    "\n",
    "winner = game.play(player1,player2)\n",
    "\n",
    "if winner == 0:\n",
    "    print(\"You won! Congratulations!\")\n",
    "else:\n",
    "    print(\"Random Player won!\")"
   ]
  },
  {
   "cell_type": "markdown",
   "metadata": {},
   "source": [
    "### You start second:"
   ]
  },
  {
   "cell_type": "code",
   "execution_count": null,
   "metadata": {},
   "outputs": [],
   "source": [
    "#When output is truncated, select 'View as scrollable element'\n",
    "\n",
    "player1 = HumanPlayer()\n",
    "player2 = RandomPlayer()\n",
    "\n",
    "g = Game()\n",
    "\n",
    "board = deepcopy(g.get_board())\n",
    "game = Game2(board, g.get_current_player())\n",
    "\n",
    "winner = game.play(player2,player1)\n",
    "\n",
    "if winner == 0:\n",
    "    print(\"You won! Congratulations!\")\n",
    "else:\n",
    "    print(\"Random Player won!\")"
   ]
  }
 ],
 "metadata": {
  "kernelspec": {
   "display_name": "venv",
   "language": "python",
   "name": "python3"
  },
  "language_info": {
   "codemirror_mode": {
    "name": "ipython",
    "version": 3
   },
   "file_extension": ".py",
   "mimetype": "text/x-python",
   "name": "python",
   "nbconvert_exporter": "python",
   "pygments_lexer": "ipython3",
   "version": "3.11.8"
  }
 },
 "nbformat": 4,
 "nbformat_minor": 2
}
