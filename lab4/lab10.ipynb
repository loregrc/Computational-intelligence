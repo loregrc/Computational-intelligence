{
 "cells": [
  {
   "cell_type": "markdown",
   "metadata": {},
   "source": [
    "Copyright **`(c)`** 2023 Giovanni Squillero `<giovanni.squillero@polito.it>`  \n",
    "[`https://github.com/squillero/computational-intelligence`](https://github.com/squillero/computational-intelligence)  \n",
    "Free for personal or classroom use; see [`LICENSE.md`](https://github.com/squillero/computational-intelligence/blob/master/LICENSE.md) for details.  "
   ]
  },
  {
   "cell_type": "markdown",
   "metadata": {},
   "source": [
    "# LAB10\n",
    "\n",
    "Use reinforcement learning to devise a tic-tac-toe player.\n",
    "\n",
    "### Deadlines:\n",
    "\n",
    "* Submission: [Dies Natalis Solis Invicti](https://en.wikipedia.org/wiki/Sol_Invictus)\n",
    "* Reviews: [Befana](https://en.wikipedia.org/wiki/Befana)\n",
    "\n",
    "Notes:\n",
    "\n",
    "* Reviews will be assigned  on Monday, December 4\n",
    "* You need to commit in order to be selected as a reviewer (ie. better to commit an empty work than not to commit)"
   ]
  },
  {
   "cell_type": "markdown",
   "metadata": {},
   "source": [
    "## Imports:"
   ]
  },
  {
   "cell_type": "code",
   "execution_count": 1,
   "metadata": {},
   "outputs": [
    {
     "name": "stderr",
     "output_type": "stream",
     "text": [
      "C:\\Users\\Utente\\AppData\\Local\\Packages\\PythonSoftwareFoundation.Python.3.11_qbz5n2kfra8p0\\LocalCache\\local-packages\\Python311\\site-packages\\tqdm\\auto.py:21: TqdmWarning: IProgress not found. Please update jupyter and ipywidgets. See https://ipywidgets.readthedocs.io/en/stable/user_install.html\n",
      "  from .autonotebook import tqdm as notebook_tqdm\n"
     ]
    }
   ],
   "source": [
    "from itertools import combinations\n",
    "from collections import namedtuple, defaultdict\n",
    "from random import choice\n",
    "from copy import deepcopy\n",
    "from tqdm.auto import tqdm\n",
    "import numpy as np"
   ]
  },
  {
   "cell_type": "markdown",
   "metadata": {},
   "source": [
    "## Definition of State:"
   ]
  },
  {
   "cell_type": "code",
   "execution_count": 246,
   "metadata": {},
   "outputs": [],
   "source": [
    "State = namedtuple('State', ['x', 'o'])"
   ]
  },
  {
   "cell_type": "markdown",
   "metadata": {},
   "source": [
    "## Definition of Magic Squares:"
   ]
  },
  {
   "cell_type": "code",
   "execution_count": 247,
   "metadata": {},
   "outputs": [],
   "source": [
    "MAGIC = [2, 7, 6,\n",
    "         9, 5, 1,\n",
    "         4, 3, 8]"
   ]
  },
  {
   "cell_type": "markdown",
   "metadata": {},
   "source": [
    "## Function to Print the Board:"
   ]
  },
  {
   "cell_type": "code",
   "execution_count": 248,
   "metadata": {},
   "outputs": [],
   "source": [
    "def print_board(pos):\n",
    "    \"\"\"Nicely prints the board\"\"\"\n",
    "    for r in range(3):\n",
    "        for c in range(3):\n",
    "            i = r * 3 + c\n",
    "            if MAGIC[i] in pos.x:\n",
    "                print('X', end='')\n",
    "            elif MAGIC[i] in pos.o:\n",
    "                print('O', end='')\n",
    "            else:\n",
    "                print('.', end='')\n",
    "        print()\n",
    "    print()"
   ]
  },
  {
   "cell_type": "markdown",
   "metadata": {},
   "source": [
    "## Functions to Check Win and Computate Rewards:"
   ]
  },
  {
   "cell_type": "code",
   "execution_count": 747,
   "metadata": {},
   "outputs": [],
   "source": [
    "def win(elements):\n",
    "    \"\"\"Checks is elements is winning\"\"\"\n",
    "    return any(sum(c) == 15 for c in combinations(elements, 3))\n",
    "\n",
    "def state_value_X(pos: State):\n",
    "\n",
    "    if win(pos.x):\n",
    "        return 2\n",
    "    elif win(pos.o):\n",
    "        return -1\n",
    "    else:\n",
    "        return 0\n",
    "    \n",
    "def state_value_O(pos: State):\n",
    "\n",
    "    if win(pos.o):\n",
    "        return 3\n",
    "    elif win(pos.x):\n",
    "        return -1\n",
    "    else:\n",
    "        return 2\n",
    "\n",
    "def state_value_O2(pos: State):\n",
    "\n",
    "    if win(pos.o):\n",
    "        return 300\n",
    "    elif win(pos.x):\n",
    "        return -2\n",
    "    else:\n",
    "        return 100\n",
    "    \n",
    "def state_value_O3(pos: State):\n",
    "\n",
    "    if win(pos.o):\n",
    "        return 3\n",
    "    elif win(pos.x):\n",
    "        return 0\n",
    "    else:\n",
    "        return 0"
   ]
  },
  {
   "cell_type": "markdown",
   "metadata": {},
   "source": [
    "## Function to Make a RANDOM Move:"
   ]
  },
  {
   "cell_type": "code",
   "execution_count": 250,
   "metadata": {},
   "outputs": [],
   "source": [
    "def make_a_move_random(available):\n",
    "\n",
    "    return choice(list(available))"
   ]
  },
  {
   "cell_type": "markdown",
   "metadata": {},
   "source": [
    "## Functions to Make INTELLIGENT Moves:"
   ]
  },
  {
   "cell_type": "code",
   "execution_count": 262,
   "metadata": {},
   "outputs": [],
   "source": [
    "def make_a_move_intelligent_X(available, current_state, dictionary_best_moves_X):\n",
    "    \n",
    "    max_next_state_value = float('-inf')\n",
    "    best_move = None\n",
    "\n",
    "    for move in available:\n",
    "        \n",
    "        next_state_x = current_state.x.union({move})\n",
    "\n",
    "        hashable_next_state = (frozenset(next_state_x), frozenset(current_state.o))\n",
    "\n",
    "        if(dictionary_best_moves_X[hashable_next_state]):\n",
    "            if dictionary_best_moves_X[hashable_next_state] > max_next_state_value:\n",
    "                max_next_state_value = dictionary_best_moves_X[hashable_next_state]\n",
    "                best_move = move\n",
    "\n",
    "    return best_move if best_move is not None else choice(list(available))\n",
    "\n",
    "def make_a_move_intelligent_O(available, current_state, dictionary_best_moves_O):\n",
    "    \n",
    "    max_next_state_value = float('-inf')\n",
    "    best_move = None\n",
    "\n",
    "    for move in available:\n",
    "        \n",
    "        next_state_o = current_state.o.union({move})\n",
    "\n",
    "        hashable_next_state = (frozenset(current_state.x), frozenset(next_state_o))\n",
    "\n",
    "        if(dictionary_best_moves_O[hashable_next_state]):\n",
    "            if dictionary_best_moves_O[hashable_next_state] > max_next_state_value:\n",
    "                max_next_state_value = dictionary_best_moves_O[hashable_next_state]\n",
    "                best_move = move\n",
    "\n",
    "    return best_move if best_move is not None else choice(list(available))"
   ]
  },
  {
   "cell_type": "markdown",
   "metadata": {},
   "source": [
    "## Function to Simulate a Random Game:"
   ]
  },
  {
   "cell_type": "code",
   "execution_count": 252,
   "metadata": {},
   "outputs": [],
   "source": [
    "def random_game():\n",
    "\n",
    "    state_list = list()\n",
    "    pos = State(set(), set())\n",
    "    available = set(range(1, 9+1))\n",
    "\n",
    "    while available:\n",
    "        x = make_a_move_random(available)\n",
    "        pos.x.add(x)\n",
    "        state_list.append(deepcopy(pos))\n",
    "        available.remove(x)\n",
    "\n",
    "        if win(pos.x) or not available:\n",
    "            break\n",
    "\n",
    "        o = make_a_move_random(available)\n",
    "        pos.o.add(o)\n",
    "        state_list.append(deepcopy(pos))\n",
    "        available.remove(o)\n",
    "\n",
    "        if win(pos.o):\n",
    "            break\n",
    "\n",
    "    return state_list"
   ]
  },
  {
   "cell_type": "markdown",
   "metadata": {},
   "source": [
    "## Functions to Simulate Games:"
   ]
  },
  {
   "cell_type": "code",
   "execution_count": 253,
   "metadata": {},
   "outputs": [],
   "source": [
    "def intelligent_game_X(dictionary_best_moves_X):\n",
    "\n",
    "    state_list = list()\n",
    "    pos = State(set(), set())\n",
    "    available = set(range(1, 9+1))\n",
    "\n",
    "    while available:\n",
    "        x = make_a_move_intelligent_X(available, pos, dictionary_best_moves_X)\n",
    "        pos.x.add(x)\n",
    "        state_list.append(deepcopy(pos))\n",
    "        available.remove(x)\n",
    "\n",
    "        if win(pos.x) or not available:\n",
    "            break\n",
    "\n",
    "        o = make_a_move_random(available)\n",
    "        pos.o.add(o)\n",
    "        state_list.append(deepcopy(pos))\n",
    "        available.remove(o)\n",
    "\n",
    "        if win(pos.o):\n",
    "            break\n",
    "        \n",
    "    return state_list\n",
    "\n",
    "def intelligent_game_O(dictionary_best_moves_O):\n",
    "\n",
    "    state_list = list()\n",
    "    pos = State(set(), set())\n",
    "    available = set(range(1, 9+1))\n",
    "\n",
    "    while available:\n",
    "        x = make_a_move_random(available)\n",
    "        pos.x.add(x)\n",
    "        state_list.append(deepcopy(pos))\n",
    "        available.remove(x)\n",
    "\n",
    "        if win(pos.x) or not available:\n",
    "            break\n",
    "\n",
    "        o = make_a_move_intelligent_O(available, pos, dictionary_best_moves_O)\n",
    "            \n",
    "        pos.o.add(o)\n",
    "        state_list.append(deepcopy(pos))\n",
    "        available.remove(o)\n",
    "\n",
    "        if win(pos.o):\n",
    "            break\n",
    "        \n",
    "    return state_list\n",
    "\n",
    "def intelligent_game(dictionary_best_moves_X, dictionary_best_moves_O):\n",
    "\n",
    "    state_list = list()\n",
    "    pos = State(set(), set())\n",
    "    available = set(range(1, 9+1))\n",
    "\n",
    "    while available:\n",
    "        x = make_a_move_intelligent_X(available, pos, dictionary_best_moves_X)\n",
    "        pos.x.add(x)\n",
    "        state_list.append(deepcopy(pos))\n",
    "        available.remove(x)\n",
    "\n",
    "        if win(pos.x) or not available:\n",
    "            break\n",
    "\n",
    "        o = make_a_move_intelligent_O(available, pos, dictionary_best_moves_O)\n",
    "            \n",
    "        pos.o.add(o)\n",
    "        state_list.append(deepcopy(pos))\n",
    "        available.remove(o)\n",
    "\n",
    "        if win(pos.o):\n",
    "            break\n",
    "        \n",
    "    return state_list"
   ]
  },
  {
   "cell_type": "markdown",
   "metadata": {},
   "source": [
    "### Functions to Simulate Games and Print Games:"
   ]
  },
  {
   "cell_type": "code",
   "execution_count": 254,
   "metadata": {},
   "outputs": [],
   "source": [
    "def intelligent_game_with_printing_X(dictionary_best_moves_X):\n",
    "\n",
    "    state_list = list()\n",
    "    pos = State(set(), set())\n",
    "    available = set(range(1, 9+1))\n",
    "\n",
    "    while available:\n",
    "        x = make_a_move_intelligent_X(available, pos, dictionary_best_moves_X)\n",
    "        pos.x.add(x)\n",
    "        state_list.append(deepcopy(pos))\n",
    "        available.remove(x)\n",
    "\n",
    "        print(\"X to move:\")\n",
    "        print_board(pos)\n",
    "\n",
    "        if win(pos.x) or not available:\n",
    "            break\n",
    "\n",
    "        o = make_a_move_random(available)\n",
    "        pos.o.add(o)\n",
    "        state_list.append(deepcopy(pos))\n",
    "        available.remove(o)\n",
    "\n",
    "        print(\"O to move:\")\n",
    "        print_board(pos)\n",
    "\n",
    "        if win(pos.o):\n",
    "            break\n",
    "        \n",
    "    return state_list\n",
    "\n",
    "def intelligent_game_with_printing_O(dictionary_best_moves_O):\n",
    "\n",
    "    state_list = list()\n",
    "    pos = State(set(), set())\n",
    "    available = set(range(1, 9+1))\n",
    "\n",
    "    while available:\n",
    "        x = make_a_move_random(available)\n",
    "        pos.x.add(x)\n",
    "        state_list.append(deepcopy(pos))\n",
    "        available.remove(x)\n",
    "\n",
    "        print(\"X to move:\")\n",
    "        print_board(pos)\n",
    "\n",
    "        if win(pos.x) or not available:\n",
    "            break\n",
    "\n",
    "        o = make_a_move_intelligent_O(available, pos, dictionary_best_moves_O)\n",
    "        pos.o.add(o)\n",
    "        state_list.append(deepcopy(pos))\n",
    "        available.remove(o)\n",
    "\n",
    "        print(\"O to move:\")\n",
    "        print_board(pos)\n",
    "\n",
    "        if win(pos.o):\n",
    "            break\n",
    "        \n",
    "    return state_list"
   ]
  },
  {
   "cell_type": "markdown",
   "metadata": {},
   "source": [
    "## Training Phase Playing Casual Moves:\n"
   ]
  },
  {
   "cell_type": "markdown",
   "metadata": {},
   "source": [
    "### Training Playing with X:"
   ]
  },
  {
   "cell_type": "code",
   "execution_count": 199,
   "metadata": {},
   "outputs": [
    {
     "name": "stderr",
     "output_type": "stream",
     "text": [
      "  0%|          | 230/500000 [00:00<03:37, 2298.31it/s]"
     ]
    },
    {
     "name": "stderr",
     "output_type": "stream",
     "text": [
      "100%|██████████| 500000/500000 [03:04<00:00, 2714.86it/s]\n"
     ]
    }
   ],
   "source": [
    "position_dictionary_with_values = defaultdict(float)\n",
    "\n",
    "epsilon = 0.001\n",
    "\n",
    "for steps in tqdm(range(500_000)):\n",
    "\n",
    "    state_list = random_game()\n",
    "\n",
    "    final_reward = state_value_X(state_list[-1])\n",
    "\n",
    "    for pos in state_list:\n",
    "        \n",
    "        hashable_state = (frozenset(pos.x), frozenset(pos.o))\n",
    "\n",
    "        position_dictionary_with_values[hashable_state] = position_dictionary_with_values[hashable_state] + epsilon * (final_reward - position_dictionary_with_values[hashable_state])\n"
   ]
  },
  {
   "cell_type": "markdown",
   "metadata": {},
   "source": [
    "### Training Playing with O:"
   ]
  },
  {
   "cell_type": "code",
   "execution_count": 754,
   "metadata": {},
   "outputs": [],
   "source": [
    "lost_games = []"
   ]
  },
  {
   "cell_type": "code",
   "execution_count": 560,
   "metadata": {},
   "outputs": [],
   "source": [
    "def lost_game(moves):\n",
    "\n",
    "    state_list = list()\n",
    "    pos = State(set(), set())\n",
    "    available = set(range(1, 9+1))\n",
    "\n",
    "    moves_list = list(moves)\n",
    "    count = 0\n",
    "\n",
    "    while available:\n",
    "\n",
    "        if count < len(moves_list):\n",
    "            if(moves_list[count] in available):\n",
    "                x = moves_list[count]\n",
    "            else:\n",
    "                x = make_a_move_random(available)\n",
    "\n",
    "            count += 1\n",
    "        else:\n",
    "                x = make_a_move_random(available)    \n",
    "\n",
    "        pos.x.add(x)\n",
    "        state_list.append(deepcopy(pos))\n",
    "        available.remove(x)\n",
    "\n",
    "        if win(pos.x) or not available:\n",
    "            break\n",
    "\n",
    "        o = make_a_move_random(available)\n",
    "        pos.o.add(o)\n",
    "        state_list.append(deepcopy(pos))\n",
    "        available.remove(o)\n",
    "\n",
    "        if win(pos.o):\n",
    "            break\n",
    "    \n",
    "    return state_list"
   ]
  },
  {
   "cell_type": "markdown",
   "metadata": {},
   "source": [
    "#### PHASE 1"
   ]
  },
  {
   "cell_type": "code",
   "execution_count": 815,
   "metadata": {},
   "outputs": [
    {
     "name": "stderr",
     "output_type": "stream",
     "text": [
      "100%|██████████| 500000/500000 [02:46<00:00, 3000.80it/s]\n"
     ]
    }
   ],
   "source": [
    "position_dictionary_with_values_O = defaultdict(float)\n",
    "\n",
    "epsilon = 0.001\n",
    "\n",
    "for steps in tqdm(range(500_000)):\n",
    "\n",
    "    state_list = random_game()\n",
    "\n",
    "    final_reward = state_value_O(state_list[-1])\n",
    "\n",
    "    for pos in state_list:\n",
    "        \n",
    "        hashable_state = (frozenset(pos.x), frozenset(pos.o))\n",
    "\n",
    "        position_dictionary_with_values_O[hashable_state] = position_dictionary_with_values_O[hashable_state] + epsilon * (final_reward - position_dictionary_with_values_O[hashable_state])"
   ]
  },
  {
   "cell_type": "markdown",
   "metadata": {},
   "source": [
    "#### PHASE 2"
   ]
  },
  {
   "cell_type": "code",
   "execution_count": 455,
   "metadata": {},
   "outputs": [
    {
     "name": "stderr",
     "output_type": "stream",
     "text": [
      "  0%|          | 262/100000 [00:00<00:38, 2615.48it/s]"
     ]
    },
    {
     "name": "stderr",
     "output_type": "stream",
     "text": [
      "100%|██████████| 100000/100000 [00:27<00:00, 3655.41it/s]\n"
     ]
    }
   ],
   "source": [
    "for steps in tqdm(range(100_000)):\n",
    "\n",
    "    state_list = intelligent_game_X(position_dictionary_with_values)\n",
    "\n",
    "    final_reward = state_value_O2(state_list[-1])\n",
    "\n",
    "    for pos in state_list:\n",
    "        \n",
    "        hashable_state = (frozenset(pos.x), frozenset(pos.o))\n",
    "\n",
    "        position_dictionary_with_values_O[hashable_state] = position_dictionary_with_values_O[hashable_state] + epsilon * (final_reward - position_dictionary_with_values_O[hashable_state])\n"
   ]
  },
  {
   "cell_type": "markdown",
   "metadata": {},
   "source": [
    "#### PHASE 3"
   ]
  },
  {
   "cell_type": "code",
   "execution_count": 756,
   "metadata": {},
   "outputs": [
    {
     "name": "stderr",
     "output_type": "stream",
     "text": [
      "0it [00:00, ?it/s]\n"
     ]
    }
   ],
   "source": [
    "lost_games_list = list(set(map(frozenset, lost_games)))\n",
    "\n",
    "for game in tqdm(lost_games_list):\n",
    "        \n",
    "    for steps in range(100_000):\n",
    "    \n",
    "        state_list = lost_game(game)\n",
    "\n",
    "        final_reward = state_value_O3(state_list[-1])\n",
    "\n",
    "        for pos in state_list:\n",
    "            \n",
    "            hashable_state = (frozenset(pos.x), frozenset(pos.o))\n",
    "\n",
    "            position_dictionary_with_values_O[hashable_state] = position_dictionary_with_values_O[hashable_state] + epsilon * (final_reward - position_dictionary_with_values_O[hashable_state])\n",
    "\n"
   ]
  },
  {
   "cell_type": "markdown",
   "metadata": {},
   "source": [
    "## Training Phase Playing Intelligent Moves:"
   ]
  },
  {
   "cell_type": "markdown",
   "metadata": {},
   "source": [
    "### Training Playing with X:"
   ]
  },
  {
   "cell_type": "code",
   "execution_count": 530,
   "metadata": {},
   "outputs": [
    {
     "name": "stderr",
     "output_type": "stream",
     "text": [
      "  0%|          | 0/500000 [00:00<?, ?it/s]"
     ]
    },
    {
     "name": "stderr",
     "output_type": "stream",
     "text": [
      "100%|██████████| 500000/500000 [02:42<00:00, 3070.65it/s]\n"
     ]
    }
   ],
   "source": [
    "position_dictionary_with_values_AI = defaultdict(float)\n",
    "\n",
    "epsilon = 0.01\n",
    "\n",
    "for steps in tqdm(range(500_000)):\n",
    "\n",
    "    state_list = intelligent_game_X(position_dictionary_with_values_AI)\n",
    "\n",
    "    final_reward = state_value_X(state_list[-1])\n",
    "\n",
    "    for pos in state_list:\n",
    "        \n",
    "        hashable_state = (frozenset(pos.x), frozenset(pos.o))\n",
    "\n",
    "        position_dictionary_with_values_AI[hashable_state] = position_dictionary_with_values_AI[hashable_state] + epsilon * (final_reward - position_dictionary_with_values_AI[hashable_state])\n"
   ]
  },
  {
   "cell_type": "markdown",
   "metadata": {},
   "source": [
    "## Games VS Random:"
   ]
  },
  {
   "cell_type": "markdown",
   "metadata": {},
   "source": [
    "### IA Player with X:"
   ]
  },
  {
   "cell_type": "code",
   "execution_count": 394,
   "metadata": {},
   "outputs": [
    {
     "name": "stderr",
     "output_type": "stream",
     "text": [
      " 35%|███▌      | 351/1000 [00:00<00:00, 3479.25it/s]"
     ]
    },
    {
     "name": "stderr",
     "output_type": "stream",
     "text": [
      "100%|██████████| 1000/1000 [00:00<00:00, 2136.10it/s]"
     ]
    },
    {
     "name": "stdout",
     "output_type": "stream",
     "text": [
      "Statistics against the random player over 1000 games (Using X):\n",
      "Wins: 995\n",
      "Loss: 0\n",
      "Draws: 5\n"
     ]
    },
    {
     "name": "stderr",
     "output_type": "stream",
     "text": [
      "\n"
     ]
    }
   ],
   "source": [
    "win_counter_against_random = 0\n",
    "loss_counter_against_random = 0\n",
    "draw_counter_against_random = 0\n",
    "\n",
    "for game in tqdm(range(1000)):\n",
    "\n",
    "    state_list = intelligent_game_X(position_dictionary_with_values)\n",
    "\n",
    "    if(win(state_list[-1].x) == 1):\n",
    "        win_counter_against_random += 1\n",
    "    elif (win(state_list[-1].o) == 1):\n",
    "        loss_counter_against_random += 1\n",
    "    else:\n",
    "        draw_counter_against_random += 1\n",
    "\n",
    "print(\"Statistics against the random player over 1000 games (Using X):\")\n",
    "print(f\"Wins: {win_counter_against_random}\")\n",
    "print(f\"Loss: {loss_counter_against_random}\")\n",
    "print(f\"Draws: {draw_counter_against_random}\")"
   ]
  },
  {
   "cell_type": "markdown",
   "metadata": {},
   "source": [
    "### IA Player with O:"
   ]
  },
  {
   "cell_type": "code",
   "execution_count": 884,
   "metadata": {},
   "outputs": [
    {
     "name": "stderr",
     "output_type": "stream",
     "text": [
      "100%|██████████| 1000/1000 [00:00<00:00, 2765.56it/s]"
     ]
    },
    {
     "name": "stdout",
     "output_type": "stream",
     "text": [
      "Statistics against the random player over 1000 games (Using O):\n",
      "Wins: 894\n",
      "Loss: 5\n",
      "Draws: 101\n",
      "[{8, 9, 2, 4}, {9, 2, 4, 6}, {9, 2, 4, 6}, {8, 1, 4, 6}, {8, 9, 2, 4}]\n"
     ]
    },
    {
     "name": "stderr",
     "output_type": "stream",
     "text": [
      "\n"
     ]
    }
   ],
   "source": [
    "lost_games = []\n",
    "\n",
    "win_counter_against_random = 0\n",
    "loss_counter_against_random = 0\n",
    "draw_counter_against_random = 0\n",
    "\n",
    "for game in tqdm(range(1000)):\n",
    "\n",
    "    state_list = intelligent_game_O(position_dictionary_with_values_O)\n",
    "\n",
    "    if(win(state_list[-1].o) == 1):\n",
    "        win_counter_against_random += 1\n",
    "    elif (win(state_list[-1].x) == 1):\n",
    "        loss_counter_against_random += 1\n",
    "        lost_games.append(state_list[-1].x)\n",
    "    else:\n",
    "        draw_counter_against_random += 1\n",
    "\n",
    "print(\"Statistics against the random player over 1000 games (Using O):\")\n",
    "print(f\"Wins: {win_counter_against_random}\")\n",
    "print(f\"Loss: {loss_counter_against_random}\")\n",
    "print(f\"Draws: {draw_counter_against_random}\")\n",
    "\n",
    "print(lost_games)"
   ]
  },
  {
   "cell_type": "markdown",
   "metadata": {},
   "source": [
    "## Games VS Random with Intelligent Training:"
   ]
  },
  {
   "cell_type": "code",
   "execution_count": 531,
   "metadata": {},
   "outputs": [
    {
     "name": "stderr",
     "output_type": "stream",
     "text": [
      "100%|██████████| 1000/1000 [00:00<00:00, 1813.93it/s]"
     ]
    },
    {
     "name": "stdout",
     "output_type": "stream",
     "text": [
      "Statistics against the random player over 1000 games (Using X):\n",
      "Wins: 654\n",
      "Loss: 277\n",
      "Draws: 69\n"
     ]
    },
    {
     "name": "stderr",
     "output_type": "stream",
     "text": [
      "\n"
     ]
    }
   ],
   "source": [
    "win_counter_against_random = 0\n",
    "loss_counter_against_random = 0\n",
    "draw_counter_against_random = 0\n",
    "\n",
    "for game in tqdm(range(1000)):\n",
    "\n",
    "    state_list = intelligent_game_X(position_dictionary_with_values_AI)\n",
    "\n",
    "    if(win(state_list[-1].x) == 1):\n",
    "        win_counter_against_random += 1\n",
    "    elif (win(state_list[-1].o) == 1):\n",
    "        loss_counter_against_random += 1\n",
    "    else:\n",
    "        draw_counter_against_random += 1\n",
    "\n",
    "print(\"Statistics against the random player over 1000 games (Using X):\")\n",
    "print(f\"Wins: {win_counter_against_random}\")\n",
    "print(f\"Loss: {loss_counter_against_random}\")\n",
    "print(f\"Draws: {draw_counter_against_random}\")"
   ]
  },
  {
   "cell_type": "markdown",
   "metadata": {},
   "source": [
    "## Games AI vs AI:"
   ]
  },
  {
   "cell_type": "code",
   "execution_count": 568,
   "metadata": {},
   "outputs": [
    {
     "name": "stderr",
     "output_type": "stream",
     "text": [
      "100%|██████████| 1000/1000 [00:00<00:00, 1569.63it/s]"
     ]
    },
    {
     "name": "stdout",
     "output_type": "stream",
     "text": [
      "Statistics AI vs AI:\n",
      "Wins X: 0\n",
      "Loss X: 0\n",
      "Draws: 1000\n"
     ]
    },
    {
     "name": "stderr",
     "output_type": "stream",
     "text": [
      "\n"
     ]
    }
   ],
   "source": [
    "win_counter_X = 0\n",
    "loss_counter_X = 0\n",
    "draw_counter = 0\n",
    "\n",
    "for game in tqdm(range(1000)):\n",
    "\n",
    "    state_list = intelligent_game(position_dictionary_with_values, position_dictionary_with_values_O)\n",
    "\n",
    "    if(win(state_list[-1].x) == 1):\n",
    "        win_counter_X += 1\n",
    "    elif (win(state_list[-1].o) == 1):\n",
    "        loss_counter_X += 1\n",
    "    else:\n",
    "        draw_counter += 1\n",
    "\n",
    "print(\"Statistics AI vs AI:\")\n",
    "print(f\"Wins X: {win_counter_X}\")\n",
    "print(f\"Loss X: {loss_counter_X}\")\n",
    "print(f\"Draws: {draw_counter}\")"
   ]
  },
  {
   "cell_type": "markdown",
   "metadata": {},
   "source": [
    "## Games VS Random with Moves Printed:"
   ]
  },
  {
   "cell_type": "markdown",
   "metadata": {},
   "source": [
    "### IA Player with X:"
   ]
  },
  {
   "cell_type": "code",
   "execution_count": null,
   "metadata": {},
   "outputs": [],
   "source": [
    "state_list = intelligent_game_with_printing_X(position_dictionary_with_values)\n",
    "\n",
    "if(win(state_list[-1].x) == 1):\n",
    "        print(\"X WON!\")\n",
    "elif (win(state_list[-1].o) == 1):\n",
    "        print(\"O WON!\")\n",
    "else:\n",
    "        print(\"DRAW!\")"
   ]
  },
  {
   "cell_type": "markdown",
   "metadata": {},
   "source": [
    "### IA Player with O:"
   ]
  },
  {
   "cell_type": "code",
   "execution_count": null,
   "metadata": {},
   "outputs": [],
   "source": [
    "state_list = intelligent_game_with_printing_O(position_dictionary_with_values_O)\n",
    "\n",
    "if(win(state_list[-1].x) == 1):\n",
    "        print(\"X WON!\")\n",
    "elif (win(state_list[-1].o) == 1):\n",
    "        print(\"O WON!\")\n",
    "else:\n",
    "        print(\"DRAW!\")"
   ]
  },
  {
   "cell_type": "markdown",
   "metadata": {},
   "source": [
    "## Test your skills against AI!\n",
    "### P.S. The moves from 1 to 9 refer to the corresponding box in the Magic Square!"
   ]
  },
  {
   "cell_type": "code",
   "execution_count": 259,
   "metadata": {},
   "outputs": [],
   "source": [
    "def play_against_intelligent_player_X():\n",
    "    pos = State(set(), set())\n",
    "    available = set(range(1, 9+1))\n",
    "\n",
    "    print(\"Start the game!\")\n",
    "    print_board(pos)\n",
    "\n",
    "    while available:\n",
    "        \n",
    "        # IA Player turn\n",
    "        print(\"IA to move...\")\n",
    "        move_intelligent = make_a_move_intelligent_X(available, pos, position_dictionary_with_values)\n",
    "        pos.x.add(move_intelligent)\n",
    "        available.remove(move_intelligent)\n",
    "        print_board(pos)\n",
    "\n",
    "        if win(pos.x):\n",
    "            print(\"IA won!\")\n",
    "            break\n",
    "        elif not available:\n",
    "            print(\"Draw!\")\n",
    "            break\n",
    "\n",
    "        # Human Player turn\n",
    "        print(\"Your turn...\")\n",
    "        move_human = int(input(\"Make your move (1-9): \"))\n",
    "        while move_human not in available:\n",
    "            print(\"Invalid move. Please try again.\")\n",
    "            move_human = int(input(\"Make your move (1-9): \"))\n",
    "\n",
    "        pos.o.add(move_human)\n",
    "        available.remove(move_human)\n",
    "        print_board(pos)\n",
    "\n",
    "        if win(pos.o):\n",
    "            print(\"Congratulations! You won!\")\n",
    "            break\n",
    "        elif not available:\n",
    "            print(\"Draw!\")\n",
    "            break\n",
    "\n",
    "    print(\"End of Game!\")\n"
   ]
  },
  {
   "cell_type": "code",
   "execution_count": 260,
   "metadata": {},
   "outputs": [],
   "source": [
    "def play_against_intelligent_player_O():\n",
    "    pos = State(set(), set())\n",
    "    available = set(range(1, 9+1))\n",
    "\n",
    "    print(\"Start the game!\")\n",
    "    print_board(pos)\n",
    "\n",
    "    while available:\n",
    "        \n",
    "        # Human Player turn\n",
    "        print(\"Your turn...\")\n",
    "        move_human = int(input(\"Make your move (1-9): \"))\n",
    "        while move_human not in available:\n",
    "            print(\"Invalid move. Please try again.\")\n",
    "            move_human = int(input(\"Make your move (1-9): \"))\n",
    "\n",
    "        pos.x.add(move_human)\n",
    "        available.remove(move_human)\n",
    "        print_board(pos)\n",
    "\n",
    "        if win(pos.x):\n",
    "            print(\"Congratulations! You won!\")\n",
    "            break\n",
    "        elif not available:\n",
    "            print(\"Draw!\")\n",
    "            break\n",
    "\n",
    "        # IA Player turn\n",
    "        print(\"IA to move...\")\n",
    "        move_intelligent = make_a_move_intelligent_O(available, pos, position_dictionary_with_values_O)\n",
    "        pos.o.add(move_intelligent)\n",
    "        available.remove(move_intelligent)\n",
    "        print_board(pos)\n",
    "\n",
    "        if win(pos.o):\n",
    "            print(\"IA won!\")\n",
    "            break\n",
    "        elif not available:\n",
    "            print(\"Draw!\")\n",
    "            break\n",
    "\n",
    "    print(\"End of Game!\")"
   ]
  },
  {
   "cell_type": "code",
   "execution_count": null,
   "metadata": {},
   "outputs": [],
   "source": [
    "play_against_intelligent_player_X()"
   ]
  },
  {
   "cell_type": "code",
   "execution_count": null,
   "metadata": {},
   "outputs": [],
   "source": [
    "play_against_intelligent_player_O()"
   ]
  }
 ],
 "metadata": {
  "kernelspec": {
   "display_name": "ci-fLJ3OwGs-py3.12",
   "language": "python",
   "name": "python3"
  },
  "language_info": {
   "codemirror_mode": {
    "name": "ipython",
    "version": 3
   },
   "file_extension": ".py",
   "mimetype": "text/x-python",
   "name": "python",
   "nbconvert_exporter": "python",
   "pygments_lexer": "ipython3",
   "version": "3.11.7"
  }
 },
 "nbformat": 4,
 "nbformat_minor": 2
}
