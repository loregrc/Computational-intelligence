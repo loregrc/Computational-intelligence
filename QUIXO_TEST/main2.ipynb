{
 "cells": [
  {
   "cell_type": "code",
   "execution_count": 1,
   "metadata": {},
   "outputs": [
    {
     "name": "stderr",
     "output_type": "stream",
     "text": [
      "C:\\Users\\Utente\\AppData\\Local\\Packages\\PythonSoftwareFoundation.Python.3.11_qbz5n2kfra8p0\\LocalCache\\local-packages\\Python311\\site-packages\\tqdm\\auto.py:21: TqdmWarning: IProgress not found. Please update jupyter and ipywidgets. See https://ipywidgets.readthedocs.io/en/stable/user_install.html\n",
      "  from .autonotebook import tqdm as notebook_tqdm\n"
     ]
    }
   ],
   "source": [
    "from game import Game\n",
    "from game2 import Game2\n",
    "from main import RandomPlayer\n",
    "from minimax import MiniMaxPlayer\n",
    "from human_player import HumanPlayer\n",
    "from copy import deepcopy\n",
    "from tqdm.auto import tqdm"
   ]
  },
  {
   "cell_type": "code",
   "execution_count": 5,
   "metadata": {},
   "outputs": [
    {
     "name": "stdout",
     "output_type": "stream",
     "text": [
      "MiniMax with depth: 2\n"
     ]
    },
    {
     "name": "stderr",
     "output_type": "stream",
     "text": [
      "Game 100: 100%|██████████| 100/100 [00:11<00:00,  8.44 game/s]"
     ]
    },
    {
     "name": "stdout",
     "output_type": "stream",
     "text": [
      "MiniMax wins: 90\n",
      "Random wins: 10\n",
      "MiniMax wins percentage: 90.0%\n",
      "\n"
     ]
    },
    {
     "name": "stderr",
     "output_type": "stream",
     "text": [
      "\n"
     ]
    }
   ],
   "source": [
    "n_games = 100\n",
    "\n",
    "depth=2\n",
    "\n",
    "n_win_random = 0\n",
    "n_win_minimax = 0\n",
    "\n",
    "print(f'MiniMax with depth: {depth}')\n",
    "\n",
    "with tqdm(range(n_games), unit=\" game\") as games:\n",
    "    for i in games:\n",
    "        games.set_description(f\"Game {i+1}\")\n",
    "        g = Game()\n",
    "        player1 = RandomPlayer()\n",
    "        player2 = MiniMaxPlayer(depth)\n",
    "        if (i < n_games / 2):\n",
    "            winner= g.play(player1, player2)\n",
    "            if winner == 0:\n",
    "                n_win_random += 1\n",
    "            else:\n",
    "                n_win_minimax += 1\n",
    "        else:\n",
    "            winner= g.play(player2, player1)\n",
    "            if winner == 1:\n",
    "                n_win_random += 1\n",
    "            else:\n",
    "                n_win_minimax += 1\n",
    "                \n",
    "print(f'MiniMax wins: {n_win_minimax}')        \n",
    "print(f'Random wins: {n_win_random}')\n",
    "\n",
    "print(f'MiniMax wins percentage: {100*n_win_minimax/n_games}%')\n",
    "print()"
   ]
  },
  {
   "cell_type": "markdown",
   "metadata": {},
   "source": [
    "# Play against AI!"
   ]
  },
  {
   "cell_type": "markdown",
   "metadata": {},
   "source": [
    "### You start first:"
   ]
  },
  {
   "cell_type": "code",
   "execution_count": null,
   "metadata": {},
   "outputs": [],
   "source": [
    "player1 = HumanPlayer()\n",
    "player2 = MiniMaxPlayer(2)\n",
    "\n",
    "g = Game()\n",
    "\n",
    "board = deepcopy(g.get_board())\n",
    "game = Game2(board, g.get_current_player())\n",
    "\n",
    "winner = game.play(player1,player2)\n",
    "\n",
    "if winner == 0:\n",
    "    print(\"You won! Congratulations!\")\n",
    "else:\n",
    "    print(\"Minimax Player won!\")"
   ]
  },
  {
   "cell_type": "markdown",
   "metadata": {},
   "source": [
    "### You start second:"
   ]
  },
  {
   "cell_type": "code",
   "execution_count": null,
   "metadata": {},
   "outputs": [],
   "source": [
    "player1 = HumanPlayer()\n",
    "player2 = MiniMaxPlayer(2)\n",
    "\n",
    "g = Game()\n",
    "\n",
    "board = deepcopy(g.get_board())\n",
    "game = Game2(board, g.get_current_player())\n",
    "\n",
    "winner = game.play(player2,player1)\n",
    "\n",
    "if winner == 0:\n",
    "    print(\"You won! Congratulations!\")\n",
    "else:\n",
    "    print(\"Minimax Player won!\")"
   ]
  },
  {
   "cell_type": "markdown",
   "metadata": {},
   "source": [
    "# Play against Random!"
   ]
  },
  {
   "cell_type": "markdown",
   "metadata": {},
   "source": [
    "### You start first:"
   ]
  },
  {
   "cell_type": "code",
   "execution_count": 8,
   "metadata": {},
   "outputs": [
    {
     "name": "stdout",
     "output_type": "stream",
     "text": [
      "- - - - - \n",
      "- - - - - \n",
      "- - - - - \n",
      "- - - - - \n",
      "- - - - - \n",
      "\n",
      "- - - - - \n",
      "- - - - - \n",
      "- - - - - \n",
      "- - - - - \n",
      "X - - - - \n",
      "\n",
      "- - - - - \n",
      "- - - - - \n",
      "- - - - - \n",
      "- - - - - \n",
      "X - O - - \n",
      "\n",
      "- - - - - \n",
      "- - - - - \n",
      "- - - - - \n",
      "X - - - - \n",
      "X - O - - \n",
      "\n",
      "- - - - - \n",
      "- - - - - \n",
      "- - - - - \n",
      "X - - - - \n",
      "X - O - O \n",
      "\n",
      "- - - - - \n",
      "- - - - - \n",
      "X - - - - \n",
      "X - - - - \n",
      "X - O - O \n",
      "\n",
      "- - - - - \n",
      "- - - - - \n",
      "X - - - - \n",
      "X - - - - \n",
      "X - O O O \n",
      "\n",
      "- - - - - \n",
      "X - - - - \n",
      "X - - - - \n",
      "X - - - - \n",
      "X - O O O \n",
      "\n",
      "- - - - - \n",
      "X - - - - \n",
      "X - - - - \n",
      "X - - O - \n",
      "X - O O O \n",
      "\n",
      "X - - - - \n",
      "X - - - - \n",
      "X - - - - \n",
      "X - - O - \n",
      "X - O O O \n",
      "\n",
      "You won! Congratulations!\n"
     ]
    }
   ],
   "source": [
    "player1 = HumanPlayer()\n",
    "player2 = RandomPlayer()\n",
    "\n",
    "g = Game()\n",
    "\n",
    "board = deepcopy(g.get_board())\n",
    "game = Game2(board, g.get_current_player())\n",
    "\n",
    "winner = game.play(player1,player2)\n",
    "\n",
    "if winner == 0:\n",
    "    print(\"You won! Congratulations!\")\n",
    "else:\n",
    "    print(\"Random Player won!\")"
   ]
  },
  {
   "cell_type": "markdown",
   "metadata": {},
   "source": [
    "### You start second:"
   ]
  },
  {
   "cell_type": "code",
   "execution_count": null,
   "metadata": {},
   "outputs": [],
   "source": [
    "player1 = HumanPlayer()\n",
    "player2 = RandomPlayer()\n",
    "\n",
    "g = Game()\n",
    "\n",
    "board = deepcopy(g.get_board())\n",
    "game = Game2(board, g.get_current_player())\n",
    "\n",
    "winner = game.play(player2,player1)\n",
    "\n",
    "if winner == 0:\n",
    "    print(\"You won! Congratulations!\")\n",
    "else:\n",
    "    print(\"Random Player won!\")"
   ]
  }
 ],
 "metadata": {
  "kernelspec": {
   "display_name": "venv",
   "language": "python",
   "name": "python3"
  },
  "language_info": {
   "codemirror_mode": {
    "name": "ipython",
    "version": 3
   },
   "file_extension": ".py",
   "mimetype": "text/x-python",
   "name": "python",
   "nbconvert_exporter": "python",
   "pygments_lexer": "ipython3",
   "version": "3.11.8"
  }
 },
 "nbformat": 4,
 "nbformat_minor": 2
}
